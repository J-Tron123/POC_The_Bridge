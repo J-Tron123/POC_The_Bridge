{
 "cells": [
  {
   "cell_type": "code",
   "execution_count": 4,
   "metadata": {},
   "outputs": [],
   "source": [
    "import pandas as pd\n",
    "import numpy as np"
   ]
  },
  {
   "cell_type": "markdown",
   "metadata": {},
   "source": [
    "CONEXION Y DESCARGA DE DATOS DE LA BASE DE DATOS"
   ]
  },
  {
   "cell_type": "code",
   "execution_count": 14,
   "metadata": {},
   "outputs": [],
   "source": [
    "import pandas as pd\n",
    "import sqlite3"
   ]
  },
  {
   "cell_type": "code",
   "execution_count": 22,
   "metadata": {},
   "outputs": [],
   "source": [
    "def get_all():\n",
    "    connection = sqlite3.connect('data/users_thebridge.db')\n",
    "    cursor = connection.cursor()\n",
    "    data = \"SELECT * FROM USERS\" #query\n",
    "    result = cursor.execute(data).fetchall()\n",
    "    names = [description[0] for description in cursor.description]\n",
    "    connection.close()\n",
    "    return pd.DataFrame(result,columns=names)"
   ]
  },
  {
   "cell_type": "code",
   "execution_count": 23,
   "metadata": {},
   "outputs": [],
   "source": [
    "users = get_all()"
   ]
  },
  {
   "cell_type": "code",
   "execution_count": 24,
   "metadata": {},
   "outputs": [
    {
     "data": {
      "text/html": [
       "<div>\n",
       "<style scoped>\n",
       "    .dataframe tbody tr th:only-of-type {\n",
       "        vertical-align: middle;\n",
       "    }\n",
       "\n",
       "    .dataframe tbody tr th {\n",
       "        vertical-align: top;\n",
       "    }\n",
       "\n",
       "    .dataframe thead th {\n",
       "        text-align: right;\n",
       "    }\n",
       "</style>\n",
       "<table border=\"1\" class=\"dataframe\">\n",
       "  <thead>\n",
       "    <tr style=\"text-align: right;\">\n",
       "      <th></th>\n",
       "      <th>Date</th>\n",
       "      <th>Users</th>\n",
       "      <th>day</th>\n",
       "      <th>month</th>\n",
       "      <th>year</th>\n",
       "    </tr>\n",
       "  </thead>\n",
       "  <tbody>\n",
       "    <tr>\n",
       "      <th>0</th>\n",
       "      <td>2020-01-01</td>\n",
       "      <td>13</td>\n",
       "      <td>1</td>\n",
       "      <td>1</td>\n",
       "      <td>2020</td>\n",
       "    </tr>\n",
       "    <tr>\n",
       "      <th>1</th>\n",
       "      <td>2020-01-02</td>\n",
       "      <td>17</td>\n",
       "      <td>2</td>\n",
       "      <td>1</td>\n",
       "      <td>2020</td>\n",
       "    </tr>\n",
       "    <tr>\n",
       "      <th>2</th>\n",
       "      <td>2020-01-03</td>\n",
       "      <td>13</td>\n",
       "      <td>3</td>\n",
       "      <td>1</td>\n",
       "      <td>2020</td>\n",
       "    </tr>\n",
       "    <tr>\n",
       "      <th>3</th>\n",
       "      <td>2020-01-04</td>\n",
       "      <td>4</td>\n",
       "      <td>4</td>\n",
       "      <td>1</td>\n",
       "      <td>2020</td>\n",
       "    </tr>\n",
       "    <tr>\n",
       "      <th>4</th>\n",
       "      <td>2020-01-05</td>\n",
       "      <td>10</td>\n",
       "      <td>5</td>\n",
       "      <td>1</td>\n",
       "      <td>2020</td>\n",
       "    </tr>\n",
       "    <tr>\n",
       "      <th>...</th>\n",
       "      <td>...</td>\n",
       "      <td>...</td>\n",
       "      <td>...</td>\n",
       "      <td>...</td>\n",
       "      <td>...</td>\n",
       "    </tr>\n",
       "    <tr>\n",
       "      <th>846</th>\n",
       "      <td>2022-04-26</td>\n",
       "      <td>63</td>\n",
       "      <td>26</td>\n",
       "      <td>4</td>\n",
       "      <td>2022</td>\n",
       "    </tr>\n",
       "    <tr>\n",
       "      <th>847</th>\n",
       "      <td>2022-04-27</td>\n",
       "      <td>64</td>\n",
       "      <td>27</td>\n",
       "      <td>4</td>\n",
       "      <td>2022</td>\n",
       "    </tr>\n",
       "    <tr>\n",
       "      <th>848</th>\n",
       "      <td>2022-04-28</td>\n",
       "      <td>46</td>\n",
       "      <td>28</td>\n",
       "      <td>4</td>\n",
       "      <td>2022</td>\n",
       "    </tr>\n",
       "    <tr>\n",
       "      <th>849</th>\n",
       "      <td>2022-04-29</td>\n",
       "      <td>29</td>\n",
       "      <td>29</td>\n",
       "      <td>4</td>\n",
       "      <td>2022</td>\n",
       "    </tr>\n",
       "    <tr>\n",
       "      <th>850</th>\n",
       "      <td>2022-04-30</td>\n",
       "      <td>21</td>\n",
       "      <td>30</td>\n",
       "      <td>4</td>\n",
       "      <td>2022</td>\n",
       "    </tr>\n",
       "  </tbody>\n",
       "</table>\n",
       "<p>851 rows × 5 columns</p>\n",
       "</div>"
      ],
      "text/plain": [
       "           Date  Users  day  month  year\n",
       "0    2020-01-01     13    1      1  2020\n",
       "1    2020-01-02     17    2      1  2020\n",
       "2    2020-01-03     13    3      1  2020\n",
       "3    2020-01-04      4    4      1  2020\n",
       "4    2020-01-05     10    5      1  2020\n",
       "..          ...    ...  ...    ...   ...\n",
       "846  2022-04-26     63   26      4  2022\n",
       "847  2022-04-27     64   27      4  2022\n",
       "848  2022-04-28     46   28      4  2022\n",
       "849  2022-04-29     29   29      4  2022\n",
       "850  2022-04-30     21   30      4  2022\n",
       "\n",
       "[851 rows x 5 columns]"
      ]
     },
     "execution_count": 24,
     "metadata": {},
     "output_type": "execute_result"
    }
   ],
   "source": [
    "users"
   ]
  },
  {
   "cell_type": "markdown",
   "metadata": {},
   "source": [
    "REENTRENAMIENTO DEL MODELO"
   ]
  },
  {
   "cell_type": "code",
   "execution_count": 27,
   "metadata": {},
   "outputs": [],
   "source": [
    "from tensorflow.keras.models import Sequential\n",
    "from tensorflow.keras.layers import Dense, SimpleRNN, LSTM\n",
    "from tensorflow.keras.optimizers import RMSprop\n",
    "from tensorflow.keras.callbacks import Callback\n",
    "from sklearn.pipeline import Pipeline\n",
    "from sklearn.model_selection import RandomizedSearchCV\n",
    "from sklearn.metrics import mean_absolute_percentage_error\n",
    "import pickle\n",
    "from pmdarima.arima import auto_arima\n",
    "\n"
   ]
  },
  {
   "cell_type": "code",
   "execution_count": 63,
   "metadata": {},
   "outputs": [],
   "source": [
    "def retrain (users_retrain):\n",
    "       \n",
    "    model = pickle.load(open('data/model.pkl','rb'))\n",
    "          \n",
    "    users_retrain['Users'] = np.log(users_retrain['Users']+1)\n",
    "    \n",
    "    # train = users['Users'][:821]\n",
    "    # test = users['Users'][821:]   \n",
    "    \n",
    "    porcentaje_test = int(len(users_retrain)*0.80)\n",
    "    train = users_retrain['Users'][: porcentaje_test]\n",
    "    test = users_retrain['Users'][ porcentaje_test:]\n",
    "    \n",
    "    print (train.shape)\n",
    "    print (test.shape)\n",
    "    print (porcentaje_test)\n",
    "    \n",
    "    prediciones = model.predict(len(test))\n",
    "    # print(prediciones.shape)\n",
    "    # print (test.shape)\n",
    "    nuevo_mape =  mean_absolute_percentage_error(test.values, prediciones)\n",
    "    print (nuevo_mape)\n",
    "    if nuevo_mape > 0.20:\n",
    "        \n",
    "        model = auto_arima(\n",
    "        train,\n",
    "        start_p=1,\n",
    "        start_q=1,\n",
    "        max_d=3,\n",
    "        max_p=5,\n",
    "        max_q=5,\n",
    "        stationary=False, \n",
    "        random_state=42,\n",
    "        trace=True,\n",
    "        n_fits = 50\n",
    "        )\n",
    "      \n",
    "        # model_retrain = Pipeline (steps = [                     \n",
    "        #                 'auto_arima', auto_arima(train)])  \n",
    "\n",
    "\n",
    "        # params = {\n",
    "        #         'auto_arima__start_p' : range(1,5),\n",
    "        #         'auto_arima__start_q': range(1,5),\n",
    "        #         'auto_arima__max_d': range(1,5),\n",
    "        #         'auto_arima__max_p': range(1,5),\n",
    "        #         'auto_arima__max_q': range(1,5),\n",
    "        #         'auto_arima__stationary': False\n",
    "        #        }\n",
    "\n",
    "    \n",
    "   \n",
    "        nuevo_mape_retrain =  mean_absolute_percentage_error(test.values, prediciones)\n",
    "        \n",
    "        return nuevo_mape_retrain\n",
    "\n",
    "    else:\n",
    "        return nuevo_mape\n",
    "\n",
    "\n",
    "    #pickle.dump(model_retrain, open('model/ad_model.pkl', 'wb'))\n"
   ]
  },
  {
   "cell_type": "code",
   "execution_count": 64,
   "metadata": {},
   "outputs": [
    {
     "name": "stdout",
     "output_type": "stream",
     "text": [
      "(680,)\n",
      "(171,)\n",
      "680\n",
      "31.50086725455237\n",
      "Performing stepwise search to minimize aic\n",
      " ARIMA(1,0,1)(0,0,0)[0] intercept   : AIC=-4647.001, Time=0.53 sec\n",
      " ARIMA(0,0,0)(0,0,0)[0] intercept   : AIC=-4412.591, Time=0.13 sec\n",
      " ARIMA(1,0,0)(0,0,0)[0] intercept   : AIC=-4649.135, Time=0.27 sec\n",
      " ARIMA(0,0,1)(0,0,0)[0] intercept   : AIC=-4581.169, Time=0.35 sec\n",
      " ARIMA(0,0,0)(0,0,0)[0]             : AIC=-948.650, Time=0.07 sec\n",
      " ARIMA(2,0,0)(0,0,0)[0] intercept   : AIC=-4647.577, Time=0.23 sec\n",
      " ARIMA(2,0,1)(0,0,0)[0] intercept   : AIC=-4648.597, Time=0.63 sec\n",
      " ARIMA(1,0,0)(0,0,0)[0]             : AIC=inf, Time=0.06 sec\n",
      "\n",
      "Best model:  ARIMA(1,0,0)(0,0,0)[0] intercept\n",
      "Total fit time: 2.290 seconds\n"
     ]
    }
   ],
   "source": [
    "resultados = retrain (users)\n",
    "\n"
   ]
  },
  {
   "cell_type": "code",
   "execution_count": 65,
   "metadata": {},
   "outputs": [
    {
     "name": "stdout",
     "output_type": "stream",
     "text": [
      "31.50086725455237\n"
     ]
    }
   ],
   "source": [
    "print(resultados)"
   ]
  }
 ],
 "metadata": {
  "kernelspec": {
   "display_name": "Python 3.7.4 64-bit",
   "language": "python",
   "name": "python3"
  },
  "language_info": {
   "codemirror_mode": {
    "name": "ipython",
    "version": 3
   },
   "file_extension": ".py",
   "mimetype": "text/x-python",
   "name": "python",
   "nbconvert_exporter": "python",
   "pygments_lexer": "ipython3",
   "version": "3.7.4"
  },
  "orig_nbformat": 4,
  "vscode": {
   "interpreter": {
    "hash": "19daab21e839cf1f7c2609b43756bfcf7e1c273b0f23e2627386359ff46e4f5c"
   }
  }
 },
 "nbformat": 4,
 "nbformat_minor": 2
}
